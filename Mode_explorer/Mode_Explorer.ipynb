{
 "cells": [
  {
   "cell_type": "markdown",
   "metadata": {},
   "source": [
    "# Mode Explorer\n",
    "## 1. Dependencies:\n",
    "* numpy\n",
    "* cython\n",
    "* matplotlib\n",
    "* pyqt4\n",
    "* pyo  #python setup.py install at the pyo directory. Please use the local directory for the custom fifo player\n",
    "\n"
   ]
  },
  {
   "cell_type": "code",
   "execution_count": 2,
   "metadata": {},
   "outputs": [
    {
     "name": "stdout",
     "output_type": "stream",
     "text": [
      "\n",
      "WxPython is not found for the current python version.\n",
      "Pyo will use a minimal GUI toolkit written with Tkinter.\n",
      "This toolkit has limited functionnalities and is no more\n",
      "maintained or updated. If you want to use all of pyo's\n",
      "GUI features, you should install WxPython, available here:\n",
      "http://www.wxpython.org/\n",
      "\n"
     ]
    }
   ],
   "source": [
    "%load_ext Cython\n",
    "import matplotlib.pyplot as plt\n",
    "import numpy as np\n",
    "import pyo\n",
    "import math, time, random, threading"
   ]
  },
  {
   "cell_type": "markdown",
   "metadata": {},
   "source": [
    "## 2. Description:\n",
    "Based on Particle Trajectory Sonification. Sonify mode of high dimensional numerical data. Interact with GUI window."
   ]
  },
  {
   "cell_type": "markdown",
   "metadata": {},
   "source": [
    "## 3. Start a fifo player\n",
    "This allows audio clips to be played on demand 'instantly'."
   ]
  },
  {
   "cell_type": "code",
   "execution_count": 3,
   "metadata": {},
   "outputs": [
    {
     "data": {
      "text/plain": [
       "<pyolib.server.Server at 0x11976f610>"
      ]
     },
     "execution_count": 3,
     "metadata": {},
     "output_type": "execute_result"
    }
   ],
   "source": [
    "s = pyo.Server(sr=11025, nchnls=1, buffersize=512)  # pyo server\n",
    "s.boot()\n",
    "fifo = pyo.FIFOPlayer()\n",
    "out = pyo.Biquad(fifo, freq=5000, q=1, type=0).out()  # BPF\n",
    "s.start()"
   ]
  },
  {
   "cell_type": "markdown",
   "metadata": {},
   "source": [
    "## 4. Core Method: Particle Trajectory Sonification"
   ]
  },
  {
   "cell_type": "code",
   "execution_count": null,
   "metadata": {},
   "outputs": [],
   "source": [
    "%%cython -2\n",
    "cimport numpy as np\n",
    "import numpy as np\n",
    "from libc.stdlib cimport rand, malloc, free\n",
    "from libc.math cimport exp\n",
    "\n",
    "def potential(np.ndarray[np.float64_t, ndim=2] data,\\\n",
    "              np.ndarray[np.float64_t, ndim=1] pos,\\\n",
    "              double sigma=0.2):\n",
    "    \"\"\"Potential energy function. \n",
    "    \n",
    "    Args:\n",
    "      data (float64): your data \n",
    "      \n",
    "      pos (float64): current position of the particle\n",
    "      \n",
    "      sigma (double): sigma attribute\n",
    "\n",
    "    Returns:\n",
    "      potential double : potential energy of the particle\n",
    "    \"\"\"\n",
    "    cdef int N, dim, j, i\n",
    "    cdef double potential, distsq, h\n",
    "    cdef double minusOneOverTwoSigmaSquared = -0.5/(sigma*sigma)\n",
    "    N, dim = data.shape[0], data.shape[1]\n",
    "    for j in range(N):\n",
    "        distsq = 0\n",
    "        for i in range(dim): \n",
    "            h = pos[i] - data[j, i]\n",
    "            distsq += h*h\n",
    "        potential += -exp(minusOneOverTwoSigmaSquared * distsq)\n",
    "    return potential\n",
    "\n",
    "# trj, sig, lastpos, lastvel = PTSM(data, initialpos, initialvel, sigma, mass, r, dt, nrSteps)\n",
    "def PTSM(np.ndarray[np.float64_t, ndim=2] data,\\\n",
    "         np.ndarray[np.float64_t, ndim=1] initialpos,\\\n",
    "         np.ndarray[np.float64_t, ndim=1] initialvel,\\\n",
    "         double sigma=0.25, double mass=1,\\\n",
    "         double r=0.99, double dt=0.01, int nrSteps=1000):\n",
    "    cdef int N, dim, i, j, step\n",
    "    N, dim = data.shape[0], data.shape[1]\n",
    "    cdef double sigma2, m, dist_sq_sum, vel_sq_sum, dt_over_m, hlp\n",
    "    cdef double *force    = <double *>malloc(dim * sizeof(double))\n",
    "    cdef double *velocity = <double *>malloc(dim * sizeof(double))\n",
    "    cdef double *position = <double *>malloc(dim * sizeof(double))\n",
    "    cdef double *tmp      = <double *>malloc(dim * sizeof(double))  \n",
    "    trj = np.zeros(nrSteps*dim, dtype=np.float64)\n",
    "    sig = np.zeros(nrSteps,     dtype=np.float64)\n",
    "    sigma2    = sigma * sigma\n",
    "    m         = mass / sigma2  # division by sigma for sigma-independent pitch\n",
    "    dt_over_m = dt / m\n",
    "    for i in range(dim):\n",
    "        position[i] = initialpos[i]\n",
    "        velocity[i] = initialvel[i]\n",
    "    for step in range(nrSteps): \n",
    "        for i in range(dim): force[i]=0\n",
    "        for j in range(N):\n",
    "            dist_sq_sum = 0\n",
    "            for i in range(dim):\n",
    "                tmp[i] = position[i] - data[j,i]\n",
    "                dist_sq_sum += tmp[i] * tmp[i]\n",
    "            hlp = exp(-dist_sq_sum/sigma2)/sigma2\n",
    "            for i in range(dim):\n",
    "                force[i] += -tmp[i]*hlp\n",
    "        # numerical integration => update pos and vel \n",
    "        vel_sq_sum = 0\n",
    "        for i in range(dim):\n",
    "            velocity[i] =  r * velocity[i] + force[i]*dt_over_m\n",
    "            position[i] += dt * velocity[i]\n",
    "            vel_sq_sum  += velocity[i] * velocity[i] \n",
    "        # store  \n",
    "        sig[step] = vel_sq_sum\n",
    "        offset    = step*dim\n",
    "        for i in range(dim): \n",
    "            trj[offset+i] = position[i]\n",
    "    # prepare return values\n",
    "    trj     = np.reshape(trj, (-1, dim)) # correct array shape \n",
    "    lastpos = np.zeros(dim, dtype=np.float64)\n",
    "    lastvel = np.zeros(dim, dtype=np.float64)\n",
    "    for i in range(dim): \n",
    "        lastpos[i]=position[i]; \n",
    "        lastvel[i]=velocity[i]\n",
    "    # free memory\n",
    "    free(force); free(velocity); free(position); free(tmp)\n",
    "    return trj, sig, lastpos, lastvel"
   ]
  }
 ],
 "metadata": {
  "kernelspec": {
   "display_name": "Python 2",
   "language": "python",
   "name": "python2"
  },
  "language_info": {
   "codemirror_mode": {
    "name": "ipython",
    "version": 2
   },
   "file_extension": ".py",
   "mimetype": "text/x-python",
   "name": "python",
   "nbconvert_exporter": "python",
   "pygments_lexer": "ipython2",
   "version": "2.7.16"
  }
 },
 "nbformat": 4,
 "nbformat_minor": 2
}
