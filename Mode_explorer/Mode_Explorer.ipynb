{
 "cells": [
  {
   "cell_type": "markdown",
   "metadata": {},
   "source": [
    "# Mode Explorer\n",
    "## 1. Dependencies:\n",
    "* numpy\n",
    "* cython\n",
    "* matplotlib\n",
    "* pyqt4\n",
    "* pyo  #python setup.py install at the pyo directory. Please use the local directory for the custom fifo player\n",
    "\n"
   ]
  },
  {
   "cell_type": "code",
   "execution_count": 2,
   "metadata": {},
   "outputs": [
    {
     "name": "stdout",
     "output_type": "stream",
     "text": [
      "\n",
      "WxPython is not found for the current python version.\n",
      "Pyo will use a minimal GUI toolkit written with Tkinter.\n",
      "This toolkit has limited functionnalities and is no more\n",
      "maintained or updated. If you want to use all of pyo's\n",
      "GUI features, you should install WxPython, available here:\n",
      "http://www.wxpython.org/\n",
      "\n"
     ]
    }
   ],
   "source": [
    "%load_ext Cython\n",
    "import matplotlib.pyplot as plt\n",
    "import numpy as np\n",
    "import pyo\n",
    "import math, time, random, threading"
   ]
  },
  {
   "cell_type": "markdown",
   "metadata": {},
   "source": [
    "## 2. Description:\n",
    "Based on Particle Trajectory Sonification. Sonify mode of high dimensional numerical data. Interact with GUI window."
   ]
  },
  {
   "cell_type": "markdown",
   "metadata": {},
   "source": [
    "## 3. Start a fifo player\n",
    "This allows audio clips to be played on demand 'instantly'."
   ]
  },
  {
   "cell_type": "code",
   "execution_count": 7,
   "metadata": {},
   "outputs": [
    {
     "data": {
      "text/plain": [
       "<pyolib.server.Server at 0x11976f610>"
      ]
     },
     "execution_count": 7,
     "metadata": {},
     "output_type": "execute_result"
    }
   ],
   "source": [
    "sr = 11025.\n",
    "ser = pyo.Server(sr=int(sr), nchnls=1, buffersize=512)  # pyo server\n",
    "ser.boot()\n",
    "fifo = pyo.FIFOPlayer()\n",
    "out = pyo.Biquad(fifo, freq=5000, q=1, type=0).out()  # BPF\n",
    "s.start()"
   ]
  },
  {
   "cell_type": "markdown",
   "metadata": {},
   "source": [
    "## 4. Core Method: Particle Trajectory Sonification"
   ]
  },
  {
   "cell_type": "code",
   "execution_count": 5,
   "metadata": {},
   "outputs": [],
   "source": [
    "%%cython -2\n",
    "cimport numpy as np\n",
    "import numpy as np\n",
    "from libc.stdlib cimport rand, malloc, free\n",
    "from libc.math cimport exp\n",
    "\n",
    "def potential(np.ndarray[np.float64_t, ndim=2] data,\\\n",
    "              np.ndarray[np.float64_t, ndim=1] pos,\\\n",
    "              double sigma=0.2):\n",
    "    \"\"\"Potential energy function. \n",
    "    \n",
    "    Args:\n",
    "      data (float64): your data \n",
    "      \n",
    "      pos (float64): current position of the particle\n",
    "      \n",
    "      sigma (double): sigma attribute\n",
    "\n",
    "    Returns:\n",
    "      potential double : potential energy of the particle\n",
    "    \"\"\"\n",
    "    cdef int N, dim, j, i\n",
    "    cdef double potential, distsq, h\n",
    "    cdef double minusOneOverTwoSigmaSquared = -0.5/(sigma*sigma)\n",
    "    N, dim = data.shape[0], data.shape[1]\n",
    "    for j in range(N):\n",
    "        distsq = 0\n",
    "        for i in range(dim): \n",
    "            h = pos[i] - data[j, i]\n",
    "            distsq += h*h\n",
    "        potential += -exp(minusOneOverTwoSigmaSquared * distsq)\n",
    "    return potential\n",
    "\n",
    "# trj, sig, lastpos, lastvel = PTSM(data, initialpos, initialvel, sigma, mass, r, dt, nrSteps)\n",
    "def PTSM(np.ndarray[np.float64_t, ndim=2] data,\\\n",
    "         np.ndarray[np.float64_t, ndim=1] initialpos,\\\n",
    "         np.ndarray[np.float64_t, ndim=1] initialvel,\\\n",
    "         double sigma=0.25, double mass=1,\\\n",
    "         double r=0.99, double dt=0.01, int nrSteps=1000):\n",
    "    \"\"\"Particle trajectory, calculate the potential energy \n",
    "    at each position in the data space\n",
    "    and figure where to go next. \"\"\"\n",
    "    cdef int N, dim, i, j, step\n",
    "    N, dim = data.shape[0], data.shape[1]\n",
    "    cdef double sigma2, m, dist_sq_sum, vel_sq_sum, dt_over_m, hlp\n",
    "    cdef double *force    = <double *>malloc(dim * sizeof(double))\n",
    "    cdef double *velocity = <double *>malloc(dim * sizeof(double))\n",
    "    cdef double *position = <double *>malloc(dim * sizeof(double))\n",
    "    cdef double *tmp      = <double *>malloc(dim * sizeof(double))  \n",
    "    trj = np.zeros(nrSteps*dim, dtype=np.float64)\n",
    "    sig = np.zeros(nrSteps,     dtype=np.float64)\n",
    "    sigma2    = sigma * sigma\n",
    "    m         = mass / sigma2  # division by sigma for sigma-independent pitch\n",
    "    dt_over_m = dt / m\n",
    "    for i in range(dim):\n",
    "        position[i] = initialpos[i]\n",
    "        velocity[i] = initialvel[i]\n",
    "    for step in range(nrSteps): \n",
    "        for i in range(dim): force[i]=0\n",
    "        for j in range(N):\n",
    "            dist_sq_sum = 0\n",
    "            for i in range(dim):\n",
    "                tmp[i] = position[i] - data[j,i]\n",
    "                dist_sq_sum += tmp[i] * tmp[i]\n",
    "            hlp = exp(-dist_sq_sum/sigma2)/sigma2\n",
    "            for i in range(dim):\n",
    "                force[i] += -tmp[i]*hlp\n",
    "        # numerical integration => update pos and vel \n",
    "        vel_sq_sum = 0\n",
    "        for i in range(dim):\n",
    "            velocity[i] =  r * velocity[i] + force[i]*dt_over_m\n",
    "            position[i] += dt * velocity[i]\n",
    "            vel_sq_sum  += velocity[i] * velocity[i] \n",
    "        # store  \n",
    "        sig[step] = vel_sq_sum\n",
    "        offset    = step*dim\n",
    "        for i in range(dim): \n",
    "            trj[offset+i] = position[i]\n",
    "    # prepare return values\n",
    "    trj     = np.reshape(trj, (-1, dim)) # correct array shape \n",
    "    lastpos = np.zeros(dim, dtype=np.float64)\n",
    "    lastvel = np.zeros(dim, dtype=np.float64)\n",
    "    for i in range(dim): \n",
    "        lastpos[i]=position[i]; \n",
    "        lastvel[i]=velocity[i]\n",
    "    # free memory\n",
    "    free(force); free(velocity); free(position); free(tmp)\n",
    "    return trj, sig, lastpos, lastvel"
   ]
  },
  {
   "cell_type": "markdown",
   "metadata": {},
   "source": [
    "## 5. Mode Explorer Example\n",
    "\n",
    "### 5.1 Load test data\n",
    "\n",
    "Data shape: 427 x 6\n",
    "\n",
    "<img src=\"scatter_matric.png\">"
   ]
  },
  {
   "cell_type": "code",
   "execution_count": 13,
   "metadata": {},
   "outputs": [
    {
     "data": {
      "image/png": "[encoded data removed]",
      "text/plain": [
       "<Figure size 432x288 with 1 Axes>"
      ]
     },
     "metadata": {
      "needs_background": "light"
     },
     "output_type": "display_data"
    }
   ],
   "source": [
    "# Load pregenerated data\n",
    "data = np.load(\"test_data.npy\")\n",
    "fig = plt.figure()  # plot a side section\n",
    "ax = fig.add_subplot(111)\n",
    "ax.plot(data[:,0], data[:,1], '.')\n",
    "N, dim  = np.shape(data)\n",
    "s = np.std(data)  # std\n",
    "data_dev = np.std(data)\n",
    "sigmaBuf = 0.0"
   ]
  },
  {
   "cell_type": "code",
   "execution_count": 9,
   "metadata": {},
   "outputs": [
    {
     "data": {
      "text/plain": [
       "'If you want to tryout some other randomly generated data, uncomment below \\n\\narguments to set:\\ngenNrMin, genNrMin (int) : min and max of number of data points per cluster\\ndim (int) : dimension\\nnc (int) : number of clusters\\n'"
      ]
     },
     "execution_count": 9,
     "metadata": {},
     "output_type": "execute_result"
    }
   ],
   "source": [
    "\"\"\"If you want to tryout some other randomly generated data, uncomment below \n",
    "\n",
    "arguments to set:\n",
    "genNrMin, genNrMin (int) : min and max of number of data points per cluster\n",
    "dim (int) : dimension\n",
    "nc (int) : number of clusters\n",
    "\"\"\"\n",
    "\n",
    "# # Generate fake data\n",
    "# genNrmin = 60\n",
    "# genNrmax = 250\n",
    "# dim = 5 # dimension\n",
    "# nc = 3  # clusters\n",
    "# # complex_data = DataGen().datagen(dim, nc, sigma=0.4, nr = nr) * 2\n",
    "# data = DataGen().datagen(dim, nc, sigma=0.4, minnr=genNrmin, maxnr=genNrmax) * 2\n",
    "# fig = plt.figure()\n",
    "# ax = fig.add_subplot(111)\n",
    "# ax.plot(data[:,0], data[:,1], '.')\n",
    "# N, dim  = np.shape(data)\n",
    "# s = np.std(data)\n",
    "# data_dev = np.std(data)\n",
    "# sigmaBuf = 0.0\n",
    "# print N, dim"
   ]
  },
  {
   "cell_type": "code",
   "execution_count": 14,
   "metadata": {},
   "outputs": [
    {
     "data": {
      "image/png": "[encoded data removed]",
      "text/plain": [
       "<Figure size 432x288 with 3 Axes>"
      ]
     },
     "metadata": {
      "needs_background": "light"
     },
     "output_type": "display_data"
    }
   ],
   "source": [
    "fig, axarr = plt.subplots(1,3, gridspec_kw = {'width_ratios':[5,3, 1]})\n",
    "mngr = plt.get_current_fig_manager()\n",
    "#mngr.window.setGeometry(0, 150, 1500, 800)\n",
    "try:\n",
    "    stopevent.set() \n",
    "except NameError:\n",
    "    pass\n",
    "\n",
    "\n",
    "# Setup Mode Explorer parameters: sigma, mass of particle, \n",
    "# r (resistence), dt (time step), nrSteps (step each movement)\n",
    "sigma   = 0.3*s\n",
    "mass    = 1.0 \n",
    "r       = 0.999\n",
    "dt      = 0.1\n",
    "nrSteps = 256\n",
    "sigmaBuf = sigma\n",
    "lastpos = np.zeros(dim)\n",
    "lastvel = np.zeros(dim)\n",
    "maxamp = 1.\n",
    "#--------------------------------------\n",
    "\n",
    "# Set up plot\n",
    "ix=0; iy=1\n",
    "dsplt, = axarr[0].plot(data[:,ix], data[:,iy], \"go\", markersize=3)\n",
    "trplt, = axarr[0].plot([], \"r-\", lw=5)\n",
    "stplt, = axarr[0].plot([], \"bo\", markersize = 2)\n",
    "sgplt, = axarr[1].plot([0,200],[0,2]  , \"b-\")\n",
    "sigplt, = axarr[2].plot(0.5, sigma, 'bo', markersize=16)\n",
    "axarr[2].axis([0, 1., 0, 2. * s])\n",
    "plt.show(block=False)\n",
    "fig.canvas.draw()\n",
    "lock = False\n",
    "#--------------------------------------\n",
    "\n",
    "# Setup interactive plotting window to allow click and trigger. \n",
    "def on_click(event): \n",
    "    global lock; lock = True\n",
    "    \n",
    "def on_release(event): global lock; lock = False\n",
    "    \n",
    "def on_motion(event):\n",
    "    global lock, sigma, mass, r, dt, nrSteps, sig, trj, lastpos, lastvel, sigmaBuf\n",
    "    global lastTime, waitTime, maxamp\n",
    "    if (lock):\n",
    "        sigma = sigmaBuf\n",
    "        pos2d = [event.xdata, event.ydata]\n",
    "        lastposmf = data[nneighbor(data[:,[ix,iy]], pos2d),:]\n",
    "        modeFound = False\n",
    "        mfcnt = 0\n",
    "        while(not modeFound and mfcnt<100):\n",
    "            mfcnt +=1\n",
    "            trjjunk, sigjunk, lastposmf, velJunk = PTSM(data, lastposmf, np.zeros(dim), sigma, mass, 0, 0.1, 100)\n",
    "            if(np.linalg.norm(velJunk)<0.00001): modeFound=True\n",
    "        modepot = potential(data, lastposmf, sigma)\n",
    "        # print mfcnt, modepot\n",
    "        if(mfcnt<100):\n",
    "            lastvel = np.random.rand(dim) * 0.03 * sigma\n",
    "            lastpos = lastposmf\n",
    "            trjjj, sigjj, lastposjj, lastveljj = PTSM(data, lastpos, lastvel, sigma, mass, 1, dt, 4*nrSteps)\n",
    "            maxamp = max(sigjj)\n",
    "        else:\n",
    "            maxamp = 10000\n",
    "    time.sleep(0.02)\n",
    "    \n",
    "def handle_close(evt):\n",
    "    stopevent.set() \n",
    "\n",
    "# Connect handlers. \n",
    "fig.canvas.mpl_connect('close_event', handle_close)\n",
    "cidclk = fig.canvas.mpl_connect('button_press_event', on_click)\n",
    "cidrel = fig.canvas.mpl_connect('button_release_event', on_release)\n",
    "cidmov = fig.canvas.mpl_connect('motion_notify_event', on_motion)\n",
    "#--------------------------------------\n",
    "\n",
    "def proc(fifo, stopevent):\n",
    "    global pos, r, sigma, mass, dt, nrSteps, lastpos, lastvel, trj, sig, ix, iy, axarr , alpha\n",
    "    global maxamp, sr\n",
    "    sent = 0\n",
    "    t0 = time.time()\n",
    "    while not stopevent.wait(0):\n",
    "        nrSteps = 100 + int(random.random()*200)\n",
    "        sent = sent + nrSteps\n",
    "        trj, sig, lastpos, lastvel = PTSM(data, lastpos, lastvel, sigma, mass, r, dt, nrSteps)\n",
    "        if(max(sig)>5*maxamp): sig = sig * 0 \n",
    "        fifo.put(sig.astype(np.float32) / maxamp * 0.2)  # send signal to audio pipeline\n",
    "        dti = sent/sr - (time.time()-t0-0.15)\n",
    "        if(dti>0.12):   \n",
    "            trplt.set_data(trj[:,ix], trj[:,iy])\n",
    "            sgplt.set_data(np.arange(np.shape(sig)[0]), sig / max(abs(sig)))\n",
    "            sigplt.set_data(0.5, sigma)\n",
    "            axarr[0].draw_artist(axarr[0].patch)\n",
    "            axarr[0].draw_artist(dsplt)\n",
    "            axarr[0].draw_artist(trplt)\n",
    "            axarr[1].draw_artist(axarr[1].patch)\n",
    "            axarr[1].draw_artist(sgplt)\n",
    "            fig.canvas.draw()\n",
    "            fig.canvas.flush_events()\n",
    "        dti = sent/sr - (time.time()-t0-0.03)\n",
    "        if(dti>0): time.sleep(dti)  \n",
    "    print \"Mode Explorer Cleared.\"\n",
    "    \n",
    "    \n",
    "stopevent = threading.Event()\n",
    "producer = threading.Thread(name=\"Compute audio signal\", target=proc, args=[fifo, stopevent])\n",
    "producer.start()"
   ]
  },
  {
   "cell_type": "code",
   "execution_count": null,
   "metadata": {},
   "outputs": [],
   "source": []
  }
 ],
 "metadata": {
  "kernelspec": {
   "display_name": "Python 2",
   "language": "python",
   "name": "python2"
  },
  "language_info": {
   "codemirror_mode": {
    "name": "ipython",
    "version": 2
   },
   "file_extension": ".py",
   "mimetype": "text/x-python",
   "name": "python",
   "nbconvert_exporter": "python",
   "pygments_lexer": "ipython2",
   "version": "2.7.16"
  }
 },
 "nbformat": 4,
 "nbformat_minor": 2
}
